{
  "nbformat": 4,
  "nbformat_minor": 0,
  "metadata": {
    "colab": {
      "name": "cellphone_detection.ipynb",
      "provenance": [],
      "mount_file_id": "107klQtSpKMhwiK1pwgJf_wpuI2L6vT85",
      "authorship_tag": "ABX9TyOWkQn+hjB/8NK4uwjfySfI",
      "include_colab_link": true
    },
    "kernelspec": {
      "name": "python3",
      "display_name": "Python 3"
    },
    "language_info": {
      "name": "python"
    },
    "accelerator": "GPU"
  },
  "cells": [
    {
      "cell_type": "markdown",
      "metadata": {
        "id": "view-in-github",
        "colab_type": "text"
      },
      "source": [
        "<a href=\"https://colab.research.google.com/github/boleamol/cellphone_detection/blob/main/cellphone_detection.ipynb\" target=\"_parent\"><img src=\"https://colab.research.google.com/assets/colab-badge.svg\" alt=\"Open In Colab\"/></a>"
      ]
    },
    {
      "cell_type": "code",
      "metadata": {
        "colab": {
          "base_uri": "https://localhost:8080/"
        },
        "id": "UdS8cYlznX3R",
        "outputId": "8f927a61-0262-4053-db22-ece1349def17"
      },
      "source": [
        "!pwd"
      ],
      "execution_count": 2,
      "outputs": [
        {
          "output_type": "stream",
          "text": [
            "/content\n"
          ],
          "name": "stdout"
        }
      ]
    },
    {
      "cell_type": "code",
      "metadata": {
        "colab": {
          "base_uri": "https://localhost:8080/"
        },
        "id": "ZZRJVjkLniro",
        "outputId": "c2ff889c-4c08-4310-ecb1-da343b44f0ba"
      },
      "source": [
        "#changing the working directory and entering to dataset directory for my google drive\n",
        "%cd /content/drive/MyDrive/kaggle/cellphone\n",
        "!pwd"
      ],
      "execution_count": 6,
      "outputs": [
        {
          "output_type": "stream",
          "text": [
            "/content/drive/MyDrive/kaggle/cellphone\n",
            "/content/drive/My Drive/kaggle/cellphone\n"
          ],
          "name": "stdout"
        }
      ]
    },
    {
      "cell_type": "code",
      "metadata": {
        "id": "nfXybWe8n6pe"
      },
      "source": [
        "!cp kaggle.json /root/.kaggle/"
      ],
      "execution_count": 6,
      "outputs": []
    },
    {
      "cell_type": "code",
      "metadata": {
        "colab": {
          "base_uri": "https://localhost:8080/"
        },
        "id": "RkYKzYddnmoL",
        "outputId": "eb05b0fc-c402-4dde-d5be-e15a0f6f0b09"
      },
      "source": [
        "!kaggle datasets download -d vitorgamalemos/cellphone"
      ],
      "execution_count": 8,
      "outputs": [
        {
          "output_type": "stream",
          "text": [
            "Downloading cellphone.zip to /content/drive/My Drive/kaggle\n",
            " 85% 5.00M/5.87M [00:00<00:00, 43.0MB/s]\n",
            "100% 5.87M/5.87M [00:00<00:00, 37.1MB/s]\n"
          ],
          "name": "stdout"
        }
      ]
    },
    {
      "cell_type": "code",
      "metadata": {
        "id": "ArVGYgcboc0_"
      },
      "source": [
        "from tensorflow.compat.v1 import ConfigProto\n",
        "from tensorflow.compat.v1 import InteractiveSession\n",
        "\n",
        "config = ConfigProto()\n",
        "config.gpu_options.per_process_gpu_memory_fraction = 0.9\n",
        "config.gpu_options.allow_growth = True\n",
        "session = InteractiveSession(config=config)"
      ],
      "execution_count": 7,
      "outputs": []
    },
    {
      "cell_type": "code",
      "metadata": {
        "id": "UQ8obudfpFfb"
      },
      "source": [
        "# Convolutional Neural Network\n",
        "\n",
        "# Importing the libraries\n",
        "import tensorflow as tf\n",
        "from tensorflow.keras.preprocessing.image import ImageDataGenerator"
      ],
      "execution_count": 8,
      "outputs": []
    },
    {
      "cell_type": "code",
      "metadata": {
        "colab": {
          "base_uri": "https://localhost:8080/",
          "height": 35
        },
        "id": "B3WwMfn_pmR2",
        "outputId": "741d3d3c-6bda-41ef-c82f-36d8b6232f83"
      },
      "source": [
        "tf.__version__"
      ],
      "execution_count": 9,
      "outputs": [
        {
          "output_type": "execute_result",
          "data": {
            "application/vnd.google.colaboratory.intrinsic+json": {
              "type": "string"
            },
            "text/plain": [
              "'2.6.0'"
            ]
          },
          "metadata": {},
          "execution_count": 9
        }
      ]
    },
    {
      "cell_type": "code",
      "metadata": {
        "id": "IEp-oG3hqLhZ"
      },
      "source": [
        "# Part 1 - Data Preprocessing\n",
        "\n",
        "# Preprocessing the Training set\n",
        "train_datagen = ImageDataGenerator(rescale = 1./255,\n",
        "                                   shear_range = 0.2,\n",
        "                                   zoom_range = 0.2,\n",
        "                                   horizontal_flip = True)"
      ],
      "execution_count": 10,
      "outputs": []
    },
    {
      "cell_type": "code",
      "metadata": {
        "colab": {
          "base_uri": "https://localhost:8080/"
        },
        "id": "-cRBSUZRqO6_",
        "outputId": "8e9fdc5e-4756-4813-e76f-451b4f4e09f6"
      },
      "source": [
        "training_set = train_datagen.flow_from_directory('train',\n",
        "                                                 target_size = (64, 64),\n",
        "                                                 batch_size = 32,\n",
        "                                                 class_mode = 'binary')\n",
        "\n",
        "# Preprocessing the Test set\n",
        "test_datagen = ImageDataGenerator(rescale = 1./255)\n",
        "test_set = test_datagen.flow_from_directory('test',\n",
        "                                            target_size = (64, 64),\n",
        "                                            batch_size = 32,\n",
        "                                            class_mode = 'binary')"
      ],
      "execution_count": 11,
      "outputs": [
        {
          "output_type": "stream",
          "text": [
            "Found 245 images belonging to 1 classes.\n",
            "Found 94 images belonging to 1 classes.\n"
          ],
          "name": "stdout"
        }
      ]
    },
    {
      "cell_type": "code",
      "metadata": {
        "id": "uf1oHSxXqWGO"
      },
      "source": [
        "from tensorflow.keras.layers import Conv2D"
      ],
      "execution_count": 12,
      "outputs": []
    },
    {
      "cell_type": "code",
      "metadata": {
        "id": "a_KRgKnWqbZJ"
      },
      "source": [
        "# Part 2 - Building the CNN\n",
        "\n",
        "# Initialising the CNN\n",
        "cnn = tf.keras.models.Sequential()\n",
        "\n",
        "# Step 1 - Convolution\n",
        "cnn.add(tf.keras.layers.Conv2D(filters=32,padding=\"same\",kernel_size=3, activation='relu', input_shape=[64, 64, 3]))\n",
        "\n",
        "# Step 2 - Pooling\n",
        "cnn.add(tf.keras.layers.MaxPool2D(pool_size=2, strides=2))\n",
        "\n",
        "# Adding a second convolutional layer\n",
        "cnn.add(tf.keras.layers.Conv2D(filters=32,padding='same',kernel_size=3, activation='relu'))\n",
        "cnn.add(tf.keras.layers.MaxPool2D(pool_size=2, strides=2))\n",
        "\n",
        "# Step 3 - Flattening\n",
        "cnn.add(tf.keras.layers.Flatten())\n",
        "\n",
        "# Step 4 - Full Connection\n",
        "cnn.add(tf.keras.layers.Dense(units=128, activation='relu'))\n",
        "\n",
        "# Step 5 - Output Layer\n",
        "cnn.add(tf.keras.layers.Dense(units=1, activation='sigmoid'))"
      ],
      "execution_count": 13,
      "outputs": []
    },
    {
      "cell_type": "code",
      "metadata": {
        "colab": {
          "base_uri": "https://localhost:8080/"
        },
        "id": "v8-VtDL1qjcJ",
        "outputId": "2a62c9f2-53e9-42b5-9e39-1ba8faf84e44"
      },
      "source": [
        "cnn.summary()"
      ],
      "execution_count": 14,
      "outputs": [
        {
          "output_type": "stream",
          "text": [
            "Model: \"sequential\"\n",
            "_________________________________________________________________\n",
            "Layer (type)                 Output Shape              Param #   \n",
            "=================================================================\n",
            "conv2d (Conv2D)              (None, 64, 64, 32)        896       \n",
            "_________________________________________________________________\n",
            "max_pooling2d (MaxPooling2D) (None, 32, 32, 32)        0         \n",
            "_________________________________________________________________\n",
            "conv2d_1 (Conv2D)            (None, 32, 32, 32)        9248      \n",
            "_________________________________________________________________\n",
            "max_pooling2d_1 (MaxPooling2 (None, 16, 16, 32)        0         \n",
            "_________________________________________________________________\n",
            "flatten (Flatten)            (None, 8192)              0         \n",
            "_________________________________________________________________\n",
            "dense (Dense)                (None, 128)               1048704   \n",
            "_________________________________________________________________\n",
            "dense_1 (Dense)              (None, 1)                 129       \n",
            "=================================================================\n",
            "Total params: 1,058,977\n",
            "Trainable params: 1,058,977\n",
            "Non-trainable params: 0\n",
            "_________________________________________________________________\n"
          ],
          "name": "stdout"
        }
      ]
    },
    {
      "cell_type": "code",
      "metadata": {
        "colab": {
          "base_uri": "https://localhost:8080/"
        },
        "id": "DNRHnspnqnIw",
        "outputId": "139ccd00-89b9-4ae4-e6d4-0fba80809023"
      },
      "source": [
        "# Part 3 - Training the CNN\n",
        "\n",
        "# Compiling the CNN\n",
        "cnn.compile(optimizer = 'adam', loss = 'binary_crossentropy', metrics = ['accuracy'])\n",
        "\n",
        "# Training the CNN on the Training set and evaluating it on the Test set\n",
        "cnn.fit(x = training_set, validation_data = test_set, epochs = 20)"
      ],
      "execution_count": 15,
      "outputs": [
        {
          "output_type": "stream",
          "text": [
            "Epoch 1/20\n",
            "8/8 [==============================] - 116s 11s/step - loss: 0.0867 - accuracy: 0.9918 - val_loss: 1.2420e-12 - val_accuracy: 1.0000\n",
            "Epoch 2/20\n",
            "8/8 [==============================] - 1s 125ms/step - loss: 4.7634e-09 - accuracy: 1.0000 - val_loss: 2.1695e-19 - val_accuracy: 1.0000\n",
            "Epoch 3/20\n",
            "8/8 [==============================] - 1s 121ms/step - loss: 1.9685e-13 - accuracy: 1.0000 - val_loss: 4.3314e-23 - val_accuracy: 1.0000\n",
            "Epoch 4/20\n",
            "8/8 [==============================] - 1s 124ms/step - loss: 1.5016e-13 - accuracy: 1.0000 - val_loss: 5.4761e-25 - val_accuracy: 1.0000\n",
            "Epoch 5/20\n",
            "8/8 [==============================] - 1s 125ms/step - loss: 5.7030e-15 - accuracy: 1.0000 - val_loss: 6.3900e-26 - val_accuracy: 1.0000\n",
            "Epoch 6/20\n",
            "8/8 [==============================] - 1s 127ms/step - loss: 5.3939e-17 - accuracy: 1.0000 - val_loss: 2.2855e-26 - val_accuracy: 1.0000\n",
            "Epoch 7/20\n",
            "8/8 [==============================] - 1s 122ms/step - loss: 3.0863e-15 - accuracy: 1.0000 - val_loss: 1.4096e-26 - val_accuracy: 1.0000\n",
            "Epoch 8/20\n",
            "8/8 [==============================] - 1s 121ms/step - loss: 2.6253e-16 - accuracy: 1.0000 - val_loss: 1.1266e-26 - val_accuracy: 1.0000\n",
            "Epoch 9/20\n",
            "8/8 [==============================] - 1s 123ms/step - loss: 2.5256e-16 - accuracy: 1.0000 - val_loss: 1.0163e-26 - val_accuracy: 1.0000\n",
            "Epoch 10/20\n",
            "8/8 [==============================] - 1s 120ms/step - loss: 3.7184e-16 - accuracy: 1.0000 - val_loss: 9.6964e-27 - val_accuracy: 1.0000\n",
            "Epoch 11/20\n",
            "8/8 [==============================] - 1s 122ms/step - loss: 4.8953e-17 - accuracy: 1.0000 - val_loss: 9.4919e-27 - val_accuracy: 1.0000\n",
            "Epoch 12/20\n",
            "8/8 [==============================] - 1s 124ms/step - loss: 6.0970e-17 - accuracy: 1.0000 - val_loss: 9.4010e-27 - val_accuracy: 1.0000\n",
            "Epoch 13/20\n",
            "8/8 [==============================] - 1s 121ms/step - loss: 2.7336e-16 - accuracy: 1.0000 - val_loss: 9.3604e-27 - val_accuracy: 1.0000\n",
            "Epoch 14/20\n",
            "8/8 [==============================] - 1s 124ms/step - loss: 2.9407e-16 - accuracy: 1.0000 - val_loss: 9.3423e-27 - val_accuracy: 1.0000\n",
            "Epoch 15/20\n",
            "8/8 [==============================] - 1s 120ms/step - loss: 9.2950e-18 - accuracy: 1.0000 - val_loss: 9.3341e-27 - val_accuracy: 1.0000\n",
            "Epoch 16/20\n",
            "8/8 [==============================] - 1s 125ms/step - loss: 1.2215e-17 - accuracy: 1.0000 - val_loss: 9.3307e-27 - val_accuracy: 1.0000\n",
            "Epoch 17/20\n",
            "8/8 [==============================] - 1s 124ms/step - loss: 1.2579e-15 - accuracy: 1.0000 - val_loss: 9.3295e-27 - val_accuracy: 1.0000\n",
            "Epoch 18/20\n",
            "8/8 [==============================] - 1s 126ms/step - loss: 1.3155e-17 - accuracy: 1.0000 - val_loss: 9.3292e-27 - val_accuracy: 1.0000\n",
            "Epoch 19/20\n",
            "8/8 [==============================] - 1s 124ms/step - loss: 1.1153e-17 - accuracy: 1.0000 - val_loss: 9.3291e-27 - val_accuracy: 1.0000\n",
            "Epoch 20/20\n",
            "8/8 [==============================] - 1s 126ms/step - loss: 9.1766e-16 - accuracy: 1.0000 - val_loss: 9.3291e-27 - val_accuracy: 1.0000\n"
          ],
          "name": "stdout"
        },
        {
          "output_type": "execute_result",
          "data": {
            "text/plain": [
              "<keras.callbacks.History at 0x7f8c3204a0d0>"
            ]
          },
          "metadata": {},
          "execution_count": 15
        }
      ]
    },
    {
      "cell_type": "code",
      "metadata": {
        "id": "LLblPd-hquv6"
      },
      "source": [
        ""
      ],
      "execution_count": null,
      "outputs": []
    }
  ]
}